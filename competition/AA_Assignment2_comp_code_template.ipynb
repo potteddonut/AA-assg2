{
 "cells": [
  {
   "cell_type": "markdown",
   "metadata": {},
   "source": [
    "### Test the Model (Competition)"
   ]
  },
  {
   "cell_type": "code",
   "execution_count": null,
   "metadata": {},
   "outputs": [],
   "source": [
    "# import the required packages\n",
    "import pandas as pd"
   ]
  },
  {
   "cell_type": "code",
   "execution_count": null,
   "metadata": {},
   "outputs": [],
   "source": [
    "# Step 1 — Load new test data\n",
    "test_df = pd.read_csv('AA_movie_comp_template.csv')\n",
    "\n",
    "# Step 2 — Do your transformations\n",
    "\n",
    "# X = ... # your transformed input\n",
    "# y = ... # your transformed labels\n",
    "# best_model = ... # your model\n",
    "\n",
    "\n",
    "# Step 3 — Predict\n",
    "y_pred = best_model.predict(X)\n",
    "\n",
    "# Step 4 — Evaluate accuracy\n",
    "\n",
    "from sklearn.metrics import classification_report\n",
    "\n",
    "print(classification_report(y, y_pred))\n"
   ]
  }
 ],
 "metadata": {
  "kernelspec": {
   "display_name": "Python 3 (ipykernel)",
   "language": "python",
   "name": "python3"
  },
  "language_info": {
   "codemirror_mode": {
    "name": "ipython",
    "version": 3
   },
   "file_extension": ".py",
   "mimetype": "text/x-python",
   "name": "python",
   "nbconvert_exporter": "python",
   "pygments_lexer": "ipython3",
   "version": "3.10.9"
  }
 },
 "nbformat": 4,
 "nbformat_minor": 2
}
